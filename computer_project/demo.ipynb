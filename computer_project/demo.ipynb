{
  "nbformat": 4,
  "nbformat_minor": 0,
  "metadata": {
    "colab": {
      "provenance": []
    },
    "kernelspec": {
      "name": "python3",
      "display_name": "Python 3"
    }
  },
  "cells": [
    {
      "cell_type": "markdown",
      "metadata": {
        "id": "AxT4sT4xUWi6"
      },
      "source": [
        "# Python programming basics for MATH327\n",
        "This Google [Colaboratory](https://colab.research.google.com) notebook demonstrates all the Python programming tools you'll need for the MATH327 computer project.\n",
        "\n",
        "If you're new to [Python](https://www.python.org), or programming in general, the official \"[Beginner's Guide](https://wiki.python.org/moin/BeginnersGuide)\" is very useful.  It provides tutorials both for those who have never programmed before as well as for those with previous programming experience.  [Software Carpentry](https://software-carpentry.org) also provides two tutorials on Python [programming](https://swcarpentry.github.io/python-novice-inflammation/) and [plotting](http://swcarpentry.github.io/python-novice-gapminder/), with a focus on scientific research.\n",
        "\n",
        "That said, all necessary information should appear here, so those additional tutorials are entirely optional resources.  I suggest using Python in part because it is very easy to work with compared to some other programming frameworks.  It is also free and very widely used, making it a very valuable skill to encounter in the course of your studies.  We are also going to keep things simple --- only a few dozen lines of code will be required for the project, where a \"line of code\" is essentially an instruction telling the computer what we want it to do.\n",
        "\n",
        "The notebook model for running and sharing code is very popular, as it allows us to mix formatted explanations (like these) with program execution and graphics.  Colaboratory notebooks specifically can run code for free on a machine sitting in the Google Cloud.  If you want to save and edit a copy of this notebook, you can either use a Google account or grab the notebook from the [GitHub repository](https://github.com/daschaich/MATH327_2023/tree/main/computer_project) for the module and run it in a notebook system of your choice, such as [Project Jupyter](https://jupyter.org).  The [plain Python code](https://github.com/daschaich/MATH327_2023/blob/main/computer_project/demo.py) is also available in the repository."
      ]
    },
    {
      "cell_type": "markdown",
      "metadata": {
        "id": "tvhnqc2dEy4U"
      },
      "source": [
        "# Initialization\n",
        "Much of Python's power comes from a wide variety of packages that provide useful tools.  We can access these using the `import` command as shown below.  We can also import the package `as` a convenient nickname.  Let's import four packages:\n",
        "* The `math` package provides extra mathematical capabilities, of which we're only going to use its square-root function (`math.sqrt`).\n",
        "* The `random` package makes it easy to to work with the pseudo-random numbers discussed in the project assignment.\n",
        "* The [NumPy](https://numpy.org) package simplifies numerical computing in Python.\n",
        "* [Matplotlib](https://matplotlib.org) simplifies Python plotting.\n",
        "\n",
        "Let's also use Python's built-in `print` utility to record the versions of Python, NumPy and Matplotlib that are being used.  This notebook was most recently checked with Python version 3.8.10, NumPy version 1.21.6 and Matplotlib version 3.2.2.  It's possible for different versions to lead to different results, though this isn't likely for the simple computations we'll be doing.  I do recommend making sure you're using Python3 --- although Python2 remains widespread, it is no longer officially supported."
      ]
    },
    {
      "cell_type": "code",
      "metadata": {
        "colab": {
          "base_uri": "https://localhost:8080/"
        },
        "id": "oVDUpI5aFB07",
        "outputId": "4a3edc2f-a14a-42e1-900d-1cdc3e1cd29f"
      },
      "source": [
        "import math\n",
        "import random\n",
        "import numpy as np\n",
        "import matplotlib\n",
        "import matplotlib.pyplot as plt   # Convenient nickname\n",
        "\n",
        "from platform import python_version\n",
        "print(python_version())\n",
        "print(np.__version__)\n",
        "print(matplotlib.__version__)"
      ],
      "execution_count": null,
      "outputs": [
        {
          "output_type": "stream",
          "name": "stdout",
          "text": [
            "3.8.10\n",
            "1.21.6\n",
            "3.2.2\n"
          ]
        }
      ]
    },
    {
      "cell_type": "markdown",
      "source": [
        "There are two more things to note in the code above.  First, everything that appears after the `#` symbol is a comment that Python will ignore.  Such comments are very useful to help humans understand what the code is doing, and I encourage you to make use of them.\n",
        "\n",
        "Second, an alternate syntax is used to import the `python_version` function.  This syntax can be used more generally, for example:\n",
        "```\n",
        "from numpy import *\n",
        "```\n",
        "This will work, but it will change the results by overwriting the `random` package with NumPy's `numpy.random` module.  Although results coming from `numpy.random` vs. `random` will be different, they will match within statistical uncertainties.\n"
      ],
      "metadata": {
        "id": "faPmT5hgvVE9"
      }
    },
    {
      "cell_type": "markdown",
      "metadata": {
        "id": "uNwyaAKpFEk4"
      },
      "source": [
        "# Pseudo-random numbers\n",
        "Now that Python is up and running, we can immediately start generating pseudo-random numbers and making use of them.\n",
        "\n",
        "First we initialize our pseudo-random number generator (PRNG) with an explicit \"seed\" (in this case `327`) so that our work is easily reproducible.  Each call of the `random.random()` function then generates a pseudo-random number $u$ from a uniform distribution, $p(u) = 1$, where $0 \\leq u < 1$ so that $\\int p(u) du = 1$ as required for a well-behaved probability distribution.\n",
        "\n",
        "As shown below, we can save the value of this pseudo-random number in a variable (here `u`) for later use.  We can also call the PRNG directly from a `print` statement.  By default, these `print` statements display 16-digit numbers, which is generally many more digits than would be useful to see.  We can improve on this default behaviour by telling `print` how we want its output to be formatted.  There is an example below, and much more information in [this tutorial](https://docs.python.org/3/tutorial/inputoutput.html)."
      ]
    },
    {
      "cell_type": "code",
      "metadata": {
        "colab": {
          "base_uri": "https://localhost:8080/"
        },
        "id": "Zb01zl1dJcJK",
        "outputId": "b2fecd01-0b4e-4ede-9c5c-6f95b6589bff"
      },
      "source": [
        "random.seed(327)\n",
        "u = random.random()\n",
        "print(u)\n",
        "print(random.random())\n",
        "\n",
        "# Print both English text and general ('g') numbers,\n",
        "# displaying six significant figures after each decimal point\n",
        "# 'u' remains what it was set to be above!\n",
        "print(\"Pseudo-random numbers: %.6g and %.6g\" % (u, random.random()))"
      ],
      "execution_count": null,
      "outputs": [
        {
          "output_type": "stream",
          "name": "stdout",
          "text": [
            "0.8630068753574512\n",
            "0.8382378631636523\n",
            "Pseudo-random numbers: 0.863007 and 0.444949\n"
          ]
        }
      ]
    },
    {
      "cell_type": "markdown",
      "source": [
        "# Inverse transform sampling and the 'for' loop\n",
        "Now let's do something non-trivial.  We will generate 100,000 pseudo-random numbers $x$ distributed according to $p(x) = \\frac{x}{2}$, with $0 \\leq x < 2$ so that $\\int p(x) dx = 1$ like a well-behaved probability distribution.  Based on the background information in the project assignment, **you should check** that inverse transform sampling with $x = F(u) = 2\\sqrt{u}$ will give us this $p(x)$.\n",
        "\n",
        "To call `random.random()` (or do anything else) many times, we use the \"[for loop](https://en.wikipedia.org/wiki/For_loop)\" shown below.  The for loop is a key programming concept.  In Python such loops begin with a colon (`:`) and last so long as the following lines are indented.  (Unlike most other programming languages, in Python [whitespace matters](https://xkcd.com/353/).)  \n",
        "\n",
        "In the code below, we first re-seed the PRNG.  This means the first three pseudo-random numbers $u$ we generate will repeat the three printed above.  We then define the number of samples to be `nSamples = int(1e5)`, which tells Python that we want it to consider \"1e5\" to be the **int**eger $1\\times10^5 = 100{,}000$.\n",
        "\n",
        "In the loop we will do two things: Save every pseudo-random numbers in an **array** named `data`, and also accumulate **running sums** that more efficiently provide the mean $\\mu = \\langle x\\rangle$ and standard deviation $\\sigma = \\sqrt{\\langle x^2\\rangle - \\langle x\\rangle^2}$.  (We will make use of the array later.)  We initialize the array to be empty (`[]`), and then `append` each pseudo-random number to its end.  The notation `[-1]` picks out the last entry in the array --- the one that we just appended.\n",
        "\n",
        "We then run the loop, which repeats every indented instruction `nSamples` times, once for each value of `i`$ = 0$, $1$, $\\cdots$, `nSamples`$ - 1$.  In this particular loop the value of `i` is not relevant.\n",
        "\n",
        "For this example **you should check** the exact analytic results $\\mu = \\frac{4}{3}$ and $\\sigma = \\frac{\\sqrt{2}}{3} \\approx 0.4714045$.  We can see that 100,000 samples quickly produce numerical results within 1% of the exact values."
      ],
      "metadata": {
        "id": "afFa3r6DxHXz"
      }
    },
    {
      "cell_type": "code",
      "source": [
        "random.seed(327)\n",
        "nSamples = int(1e5)\n",
        "data = []\n",
        "ave = 0.0\n",
        "sqAve = 0.0\n",
        "for i in range(0, nSamples):\n",
        "  data.append(2.0 * math.sqrt(random.random()))\n",
        "  ave += data[-1]     # Add to running sums\n",
        "  sqAve += data[-1] * data[-1]\n",
        "\n",
        "ave /= nSamples\n",
        "sqAve /= nSamples\n",
        "sigma = math.sqrt(sqAve - ave * ave)\n",
        "print(\"mu = %.6g\" % ave)\n",
        "print(\"sigma = %.6g\" % sigma)\n",
        "\n",
        "# Check against exact analytic results\n",
        "exact_mu = 4.0 / 3.0\n",
        "diff = 100.0 * np.abs(1.0 - ave / exact_mu)       # Absolute value\n",
        "print(\"\\nMean within %.2g percent of exact result\" % diff)\n",
        "\n",
        "exact_sigma = math.sqrt(2.0) / 3.0\n",
        "diff = 100.0 * np.abs(1.0 - sigma / exact_sigma)  # Overwrites diff\n",
        "print(\"StDev within %.2g percent of exact result\" % diff)"
      ],
      "metadata": {
        "colab": {
          "base_uri": "https://localhost:8080/"
        },
        "id": "Nd57zDVkxTOQ",
        "outputId": "62bba928-55a4-4830-c85b-f6dc32922543"
      },
      "execution_count": null,
      "outputs": [
        {
          "output_type": "stream",
          "name": "stdout",
          "text": [
            "mu = 1.33339\n",
            "sigma = 0.471542\n",
            "\n",
            "Mean within 0.0042 percent of exact result\n",
            "StDev within 0.029 percent of exact result\n"
          ]
        }
      ]
    },
    {
      "cell_type": "markdown",
      "metadata": {
        "id": "YK-xhy7DU1C0"
      },
      "source": [
        "# Histogram\n",
        "If all we wanted were the mean and standard deviation, saving all 100,000 pseudo-random numbers in the array `data` would be extremely inefficient.  Here we saved them so that we can make a [histogram](https://en.wikipedia.org/wiki/Histogram) to visually check how well the pseudo-random numbers Python gave us follow the desired probability distribution $p(x) = \\frac{x}{2}$.\n",
        "\n",
        "The `plt.hist` function below produces this histogram, sorting the data in the array into the 51 bins we tell it to use.  The `density` argument normalizes the plot so that the area of the histogram adds up to $1$.  If `density` were set to false, the histogram would show the _total number_ of samples in each bin and we would need to rescale $p(x)$ by an appropriate constant factor in order to compare it to the data.\n",
        "\n",
        "Here the comparison is done by evaluating the function $y(x) = \\frac{x}{2}$ for 200 points evenly distributed between $0 \\leq x < 2$ (provided by a useful NumPy utility).  This is a standard way to plot functions in Python.  The `plt.plot` function adds this $y(x)$ to the plot that already contains the histogram, which we can then save to disk as a pdf file and also `show` interactively.  ([Note](https://stackoverflow.com/a/21884187/2588546) that `show` resets the plot, so needs to be called after it is saved.)  The `'r'` argument given to `plt.plot` tells Matplotlib to show $y$ as a red line.  We see very good agreement between the histogram and the desired $p(x) = \\frac{x}{2}$."
      ]
    },
    {
      "cell_type": "code",
      "metadata": {
        "colab": {
          "base_uri": "https://localhost:8080/",
          "height": 279
        },
        "id": "mtL32g-kU0Ks",
        "outputId": "51115abe-8f7a-45c7-dffa-2c4df91a74af"
      },
      "source": [
        "nbins = 51\n",
        "plt.hist(data, nbins, density=True, label='Data')\n",
        "x = np.arange(0, 2, 0.01)   # Points 0, 0.01, ..., 1.99\n",
        "y = 0.5 * x\n",
        "plt.plot(x, y, 'r', label='y(x)')\n",
        "plt.xlabel('$x$')\n",
        "plt.ylabel('$p$')\n",
        "plt.legend(loc='upper left')\n",
        "\n",
        "# Save and/or show figure\n",
        "# 'tight' reduces surrounding whitespace\n",
        "plt.savefig('hist.pdf', bbox_inches='tight')\n",
        "plt.show()"
      ],
      "execution_count": null,
      "outputs": [
        {
          "output_type": "display_data",
          "data": {
            "text/plain": [
              "<Figure size 432x288 with 1 Axes>"
            ],
            "image/png": "[encoded data removed]"
          },
          "metadata": {
            "needs_background": "light"
          }
        }
      ]
    },
    {
      "cell_type": "markdown",
      "metadata": {
        "id": "LP_ZBhWOxARj"
      },
      "source": [
        "# Random walks\n",
        "Now let's analyze random walks with various numbers of steps.  As shown in the code below, this requires nesting three `for` loops inside of each other, with increasing indentation.  The innermost loop over `step` carries out the walk, taking `Nstep` steps of random length $x$ drawn from the probability distribution $p(x)$ above, and adding these steps to the running sum `d` (for \"distance\").  In the middle loop over `i`, this `nStep` random walk is repeated `nWalks = int(1e5)` times, giving us 100,000 values of `d` to analyze as a random variable.  We save the average `d` in the array `L`, which is built up through the outermost loop over `Nstep` that repeats the procedure for reach of the eight numbers of steps we assign to the array `walk_lengths`.\n",
        "\n",
        "To confirm that the average walk length follows our expectation `L`$\\propto$`Nstep`, we both print out and plot our results."
      ]
    },
    {
      "cell_type": "code",
      "metadata": {
        "colab": {
          "base_uri": "https://localhost:8080/",
          "height": 447
        },
        "id": "Z-btvuwExMi0",
        "outputId": "b577940a-f23b-4057-fc39-655f41987e40"
      },
      "source": [
        "walk_lengths = [10, 20, 30, 40, 50, 60, 70, 80]\n",
        "nWalks = int(1e5)     # Number of times to repeat each walk\n",
        "L = []\n",
        "print(\"N  L\")\n",
        "for Nstep in walk_lengths:\n",
        "  L.append(0.0)     # Array of running sums\n",
        "  for i in range(0, nWalks):\n",
        "    d = 0.0         # Single running sum\n",
        "    for step in range(0, Nstep):\n",
        "      d += 2.0 * math.sqrt(random.random())\n",
        "    L[-1] += d\n",
        "  L[-1] /= float(nSamples)\n",
        "  print(\"%d %.3f\" % (Nstep, L[-1]))\n",
        "\n",
        "# Plot as small points (\".\") instead of a line\n",
        "# Force the plot to include the origin\n",
        "plt.xlim(0, 1.1*max(walk_lengths))\n",
        "plt.ylim(0, 1.1*max(L))\n",
        "plt.xlabel('Number of steps')\n",
        "plt.ylabel('Average walk length')\n",
        "plt.plot(walk_lengths, L, linestyle='None', marker=\".\")\n",
        "plt.show()"
      ],
      "execution_count": null,
      "outputs": [
        {
          "output_type": "stream",
          "name": "stdout",
          "text": [
            "N  L\n",
            "10 13.337\n",
            "20 26.666\n",
            "30 39.984\n",
            "40 53.335\n",
            "50 66.685\n",
            "60 80.001\n",
            "70 93.347\n",
            "80 106.643\n"
          ]
        },
        {
          "output_type": "display_data",
          "data": {
            "text/plain": [
              "<Figure size 432x288 with 1 Axes>"
            ],
            "image/png": "[encoded data removed]"
          },
          "metadata": {
            "needs_background": "light"
          }
        }
      ]
    },
    {
      "cell_type": "markdown",
      "source": [
        "As an aside, if we were pressed for time, we could do just the $10^5$ 80-step walks above, and interpret the first $N$ steps of each of these as an $N$-step walk.  This would produce **correlated** results, but we would only need to account for correlations if we were carrying out careful uncertainty analyses, which we won't worry about in this module."
      ],
      "metadata": {
        "id": "CYwovOX3-x_S"
      }
    },
    {
      "cell_type": "markdown",
      "metadata": {
        "id": "c1w_gwUm1RhE"
      },
      "source": [
        "# Polynomial fit\n",
        "Suppose we are confident that `L` is a linear function of `Nstep`, $L = aN + b$, and just want to determine the slope $a$ and intercept $b$.  We can do this by using NumPy's `np.polyfit` function to fit these data to a polynomial.  The order of the polynomial (here `1`) is the third argument of this function.  By printing the output of this function, we can confirm our expectation that the slope is simply the mean of the single-step process, $\\mu = \\frac{4}{3}$, while the intercept correctly vanishes up to our current statistical precision.  (Zero steps means zero distance walked!)\n",
        "\n",
        "We can also plot the results of the fit along with the data points already shown above, to confirm that the fit provides a good description of these data."
      ]
    },
    {
      "cell_type": "code",
      "metadata": {
        "id": "O5D8mccsUSfz",
        "colab": {
          "base_uri": "https://localhost:8080/",
          "height": 316
        },
        "outputId": "aa58363f-4ac9-4ce2-c98c-947c781c9aec"
      },
      "source": [
        "output = np.polyfit(walk_lengths, L, 1)\n",
        "a=output[-2]\n",
        "b=output[-1]\n",
        "print(\"a = %.6g\" % a)\n",
        "print(\"b = %.6g\" % b)\n",
        "\n",
        "# Replot the points, since show() reset the previous plot\n",
        "plt.xlim(0, 1.1*max(walk_lengths))\n",
        "plt.ylim(0, 1.1*max(L))\n",
        "plt.xlabel('Number of steps')\n",
        "plt.ylabel('Average walk length')\n",
        "plt.plot(walk_lengths, L, linestyle='None', marker=\".\", label=\"Data\")\n",
        "x = np.arange(0, 80, 0.1)\n",
        "p = a * x + b\n",
        "plt.plot(x, p, 'r', label=\"Fit\")\n",
        "plt.legend(loc='lower right')\n",
        "plt.show()"
      ],
      "execution_count": null,
      "outputs": [
        {
          "output_type": "stream",
          "name": "stdout",
          "text": [
            "a = 1.33327\n",
            "b = 0.00222509\n"
          ]
        },
        {
          "output_type": "display_data",
          "data": {
            "text/plain": [
              "<Figure size 432x288 with 1 Axes>"
            ],
            "image/png": "[encoded data removed]"
          },
          "metadata": {
            "needs_background": "light"
          }
        }
      ]
    },
    {
      "cell_type": "markdown",
      "metadata": {
        "id": "r_JLA8U6400P"
      },
      "source": [
        "# Trick to simplify power-law fits\n",
        "What if we *aren't* sure that the relation between the walk length and the number of steps is linear?  We know the intercept must be zero, so we can proceed by fitting the data to a **power law**, $L = cN^{\\alpha}$, to determine both the power $\\alpha$ and the constant of proportionality $c$.\n",
        "\n",
        "It is of course possible to do such power-law fits directly in Python, but there is also a famous trick that makes this task much simpler: We take the log of both sides of the power law, and get back to a linear relation, $\\log L = \\alpha \\log N + \\log c$.  Adapting the linear fit above then confirms that $\\alpha = 1$ and $c = \\mu$ well within our statistical uncertainties."
      ]
    },
    {
      "cell_type": "code",
      "metadata": {
        "colab": {
          "base_uri": "https://localhost:8080/",
          "height": 316
        },
        "id": "2QxrckVX1b_v",
        "outputId": "fa4a9e73-3830-441e-9771-1bc06c974b76"
      },
      "source": [
        "logN = np.log(walk_lengths);\n",
        "logL = np.log(L);\n",
        "output = np.polyfit(logN, logL, 1)\n",
        "alpha = output[-2]\n",
        "c = np.exp(output[-1])\n",
        "print(\"alpha = %.6g\" % alpha)\n",
        "print(\"c = %.6g\" % c)\n",
        "\n",
        "plt.xlim(0, 1.1*max(walk_lengths))\n",
        "plt.ylim(0, 1.1*max(L))\n",
        "plt.xlabel('Number of steps')\n",
        "plt.ylabel('Average walk length')\n",
        "plt.plot(walk_lengths, L, linestyle='None', marker=\".\", label=\"Data\")\n",
        "x = np.arange(0, 80, 0.1)\n",
        "p = c * x**alpha\n",
        "plt.plot(x, p, 'r', label=\"Fit\")\n",
        "plt.legend(loc='lower right')\n",
        "plt.show()"
      ],
      "execution_count": null,
      "outputs": [
        {
          "output_type": "stream",
          "name": "stdout",
          "text": [
            "alpha = 0.99994\n",
            "c = 1.33363\n"
          ]
        },
        {
          "output_type": "display_data",
          "data": {
            "text/plain": [
              "<Figure size 432x288 with 1 Axes>"
            ],
            "image/png": "[encoded data removed]"
          },
          "metadata": {
            "needs_background": "light"
          }
        }
      ]
    },
    {
      "cell_type": "markdown",
      "metadata": {
        "id": "5liTVUhojhHB"
      },
      "source": [
        "# Time to play\n",
        "You now have all the tools you need for the computer project, but there are plenty of experiments you can run based on the setup above.\n",
        "\n",
        "For one thing, we expect the accuracy with which we reproduce the exact analytic results to improve with more data (larger `nSamples` and `nWalks`).  You can easily check whether this expectation is fulfilled by re-running the code above with larger (or smaller) `nSamples` or `nWalks`.\n",
        "\n",
        "When generating the random walks, you can explore the effects of correlations by using the trick of extracting shorter walks from the longest 80-step walk, and see how much this speeds up the computations.\n",
        "\n",
        "You can also explore how higher-order terms in the polynomial would affect the fit, and check the trick above against a direct power-law fit.\n",
        "\n",
        "You can also consider different distributions of step sizes, for example generalizing this setup to walks in two (or more) dimensions by generating both pseudo-random step lengths and one or more pseudo-random angles defining the direction of each step."
      ]
    }
  ]
}